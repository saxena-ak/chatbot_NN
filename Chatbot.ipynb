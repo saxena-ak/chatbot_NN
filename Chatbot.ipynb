{
  "nbformat": 4,
  "nbformat_minor": 0,
  "metadata": {
    "colab": {
      "name": "Chatbot.ipynb",
      "provenance": [],
      "collapsed_sections": [],
      "authorship_tag": "ABX9TyNKmJJt3ds1NQSwwC+5sj+9",
      "include_colab_link": true
    },
    "kernelspec": {
      "name": "python3",
      "display_name": "Python 3"
    },
    "language_info": {
      "name": "python"
    },
    "widgets": {
      "application/vnd.jupyter.widget-state+json": {
        "1a04eb07e33b4158b384523b1a60f3f1": {
          "model_module": "@jupyter-widgets/controls",
          "model_name": "VBoxModel",
          "state": {
            "_view_name": "VBoxView",
            "_dom_classes": [
              "widget-interact"
            ],
            "_model_name": "VBoxModel",
            "_view_module": "@jupyter-widgets/controls",
            "_model_module_version": "1.5.0",
            "_view_count": null,
            "_view_module_version": "1.5.0",
            "box_style": "",
            "layout": "IPY_MODEL_4e294afdbf994a23bd93b0649ed904eb",
            "_model_module": "@jupyter-widgets/controls",
            "children": [
              "IPY_MODEL_3909f4d796f649cbb32401f781de2ade",
              "IPY_MODEL_fe5738d18528430e9a575346ce367fbe"
            ]
          }
        },
        "4e294afdbf994a23bd93b0649ed904eb": {
          "model_module": "@jupyter-widgets/base",
          "model_name": "LayoutModel",
          "state": {
            "_view_name": "LayoutView",
            "grid_template_rows": null,
            "right": null,
            "justify_content": null,
            "_view_module": "@jupyter-widgets/base",
            "overflow": null,
            "_model_module_version": "1.2.0",
            "_view_count": null,
            "flex_flow": null,
            "width": null,
            "min_width": null,
            "border": null,
            "align_items": null,
            "bottom": null,
            "_model_module": "@jupyter-widgets/base",
            "top": null,
            "grid_column": null,
            "overflow_y": null,
            "overflow_x": null,
            "grid_auto_flow": null,
            "grid_area": null,
            "grid_template_columns": null,
            "flex": null,
            "_model_name": "LayoutModel",
            "justify_items": null,
            "grid_row": null,
            "max_height": null,
            "align_content": null,
            "visibility": null,
            "align_self": null,
            "height": null,
            "min_height": null,
            "padding": null,
            "grid_auto_rows": null,
            "grid_gap": null,
            "max_width": null,
            "order": null,
            "_view_module_version": "1.2.0",
            "grid_template_areas": null,
            "object_position": null,
            "object_fit": null,
            "grid_auto_columns": null,
            "margin": null,
            "display": null,
            "left": null
          }
        },
        "3909f4d796f649cbb32401f781de2ade": {
          "model_module": "@jupyter-widgets/controls",
          "model_name": "TextModel",
          "state": {
            "_view_name": "TextView",
            "style": "IPY_MODEL_63439b3d0257459fa69f354f31d525df",
            "_dom_classes": [],
            "description": "msg",
            "_model_name": "TextModel",
            "placeholder": "​",
            "_view_module": "@jupyter-widgets/controls",
            "_model_module_version": "1.5.0",
            "value": "bye",
            "_view_count": null,
            "disabled": false,
            "_view_module_version": "1.5.0",
            "continuous_update": true,
            "description_tooltip": null,
            "_model_module": "@jupyter-widgets/controls",
            "layout": "IPY_MODEL_ee7a1210694e4ed8b21b840afb1345ab"
          }
        },
        "fe5738d18528430e9a575346ce367fbe": {
          "model_module": "@jupyter-widgets/output",
          "model_name": "OutputModel",
          "state": {
            "_view_name": "OutputView",
            "msg_id": "",
            "_dom_classes": [],
            "_model_name": "OutputModel",
            "outputs": [
              {
                "output_type": "display_data",
                "metadata": {
                  "tags": []
                },
                "application/vnd.google.colaboratory.intrinsic+json": {
                  "type": "string"
                },
                "text/plain": "'See you!'"
              }
            ],
            "_view_module": "@jupyter-widgets/output",
            "_model_module_version": "1.0.0",
            "_view_count": null,
            "_view_module_version": "1.0.0",
            "layout": "IPY_MODEL_bcb82c0c216a45e181f3303a0c8789eb",
            "_model_module": "@jupyter-widgets/output"
          }
        },
        "63439b3d0257459fa69f354f31d525df": {
          "model_module": "@jupyter-widgets/controls",
          "model_name": "DescriptionStyleModel",
          "state": {
            "_view_name": "StyleView",
            "_model_name": "DescriptionStyleModel",
            "description_width": "",
            "_view_module": "@jupyter-widgets/base",
            "_model_module_version": "1.5.0",
            "_view_count": null,
            "_view_module_version": "1.2.0",
            "_model_module": "@jupyter-widgets/controls"
          }
        },
        "ee7a1210694e4ed8b21b840afb1345ab": {
          "model_module": "@jupyter-widgets/base",
          "model_name": "LayoutModel",
          "state": {
            "_view_name": "LayoutView",
            "grid_template_rows": null,
            "right": null,
            "justify_content": null,
            "_view_module": "@jupyter-widgets/base",
            "overflow": null,
            "_model_module_version": "1.2.0",
            "_view_count": null,
            "flex_flow": null,
            "width": null,
            "min_width": null,
            "border": null,
            "align_items": null,
            "bottom": null,
            "_model_module": "@jupyter-widgets/base",
            "top": null,
            "grid_column": null,
            "overflow_y": null,
            "overflow_x": null,
            "grid_auto_flow": null,
            "grid_area": null,
            "grid_template_columns": null,
            "flex": null,
            "_model_name": "LayoutModel",
            "justify_items": null,
            "grid_row": null,
            "max_height": null,
            "align_content": null,
            "visibility": null,
            "align_self": null,
            "height": null,
            "min_height": null,
            "padding": null,
            "grid_auto_rows": null,
            "grid_gap": null,
            "max_width": null,
            "order": null,
            "_view_module_version": "1.2.0",
            "grid_template_areas": null,
            "object_position": null,
            "object_fit": null,
            "grid_auto_columns": null,
            "margin": null,
            "display": null,
            "left": null
          }
        },
        "bcb82c0c216a45e181f3303a0c8789eb": {
          "model_module": "@jupyter-widgets/base",
          "model_name": "LayoutModel",
          "state": {
            "_view_name": "LayoutView",
            "grid_template_rows": null,
            "right": null,
            "justify_content": null,
            "_view_module": "@jupyter-widgets/base",
            "overflow": null,
            "_model_module_version": "1.2.0",
            "_view_count": null,
            "flex_flow": null,
            "width": null,
            "min_width": null,
            "border": null,
            "align_items": null,
            "bottom": null,
            "_model_module": "@jupyter-widgets/base",
            "top": null,
            "grid_column": null,
            "overflow_y": null,
            "overflow_x": null,
            "grid_auto_flow": null,
            "grid_area": null,
            "grid_template_columns": null,
            "flex": null,
            "_model_name": "LayoutModel",
            "justify_items": null,
            "grid_row": null,
            "max_height": null,
            "align_content": null,
            "visibility": null,
            "align_self": null,
            "height": null,
            "min_height": null,
            "padding": null,
            "grid_auto_rows": null,
            "grid_gap": null,
            "max_width": null,
            "order": null,
            "_view_module_version": "1.2.0",
            "grid_template_areas": null,
            "object_position": null,
            "object_fit": null,
            "grid_auto_columns": null,
            "margin": null,
            "display": null,
            "left": null
          }
        }
      }
    }
  },
  "cells": [
    {
      "cell_type": "markdown",
      "metadata": {
        "id": "view-in-github",
        "colab_type": "text"
      },
      "source": [
        "<a href=\"https://colab.research.google.com/github/saxena-ak/chatbot_NN/blob/main/Chatbot.ipynb\" target=\"_parent\"><img src=\"https://colab.research.google.com/assets/colab-badge.svg\" alt=\"Open In Colab\"/></a>"
      ]
    },
    {
      "cell_type": "code",
      "metadata": {
        "id": "j9iDLJUyNtry"
      },
      "source": [
        "#importing all the important packages\n",
        "import nltk\n",
        "from nltk.stem import WordNetLemmatizer\n",
        "lemmatizer = WordNetLemmatizer()\n",
        "import json\n",
        "import io\n",
        "import pickle\n",
        "from google.colab import files\n",
        "import numpy as np\n",
        "from keras.models import Sequential\n",
        "from keras.layers import Dense, Activation, Dropout\n",
        "from keras.optimizers import SGD\n",
        "import random"
      ],
      "execution_count": 1,
      "outputs": []
    },
    {
      "cell_type": "code",
      "metadata": {
        "colab": {
          "base_uri": "https://localhost:8080/"
        },
        "id": "ubC4jYIThRl9",
        "outputId": "d4eeb6e9-04b1-4069-a4de-08ed5e5db1e3"
      },
      "source": [
        "#downloading \"punkt\" tokenizer that creates tokens from text\n",
        "nltk.download('punkt')\n",
        "#downloding lexical database for English\n",
        "nltk.download('wordnet')"
      ],
      "execution_count": 2,
      "outputs": [
        {
          "output_type": "stream",
          "text": [
            "[nltk_data] Downloading package punkt to /root/nltk_data...\n",
            "[nltk_data]   Unzipping tokenizers/punkt.zip.\n",
            "[nltk_data] Downloading package wordnet to /root/nltk_data...\n",
            "[nltk_data]   Unzipping corpora/wordnet.zip.\n"
          ],
          "name": "stdout"
        },
        {
          "output_type": "execute_result",
          "data": {
            "text/plain": [
              "True"
            ]
          },
          "metadata": {
            "tags": []
          },
          "execution_count": 2
        }
      ]
    },
    {
      "cell_type": "code",
      "metadata": {
        "colab": {
          "resources": {
            "http://localhost:8080/nbextensions/google.colab/files.js": {
              "data": "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",
              "ok": true,
              "headers": [
                [
                  "content-type",
                  "application/javascript"
                ]
              ],
              "status": 200,
              "status_text": ""
            }
          },
          "base_uri": "https://localhost:8080/",
          "height": 72
        },
        "id": "5qHecmvvN6_T",
        "outputId": "b6ece4d2-aca8-41b7-ee98-8be887817c5c"
      },
      "source": [
        "#initializing important variables\n",
        "word=[]\n",
        "classes = []\n",
        "doc = []\n",
        "\n",
        "#to upload JSON file that contains data to Google Colab\n",
        "uploaded = files.upload()\n",
        "data = next(iter(uploaded.values()))\n",
        "intent_data = json.loads(data.decode())"
      ],
      "execution_count": 3,
      "outputs": [
        {
          "output_type": "display_data",
          "data": {
            "text/html": [
              "\n",
              "     <input type=\"file\" id=\"files-0bdab160-df61-4ad8-b536-761abd146702\" name=\"files[]\" multiple disabled\n",
              "        style=\"border:none\" />\n",
              "     <output id=\"result-0bdab160-df61-4ad8-b536-761abd146702\">\n",
              "      Upload widget is only available when the cell has been executed in the\n",
              "      current browser session. Please rerun this cell to enable.\n",
              "      </output>\n",
              "      <script src=\"/nbextensions/google.colab/files.js\"></script> "
            ],
            "text/plain": [
              "<IPython.core.display.HTML object>"
            ]
          },
          "metadata": {
            "tags": []
          }
        },
        {
          "output_type": "stream",
          "text": [
            "Saving intents.json to intents.json\n"
          ],
          "name": "stdout"
        }
      ]
    },
    {
      "cell_type": "code",
      "metadata": {
        "colab": {
          "base_uri": "https://localhost:8080/"
        },
        "id": "4EU3ezFHcigb",
        "outputId": "9610b7d5-f492-47c7-c400-e888b70f6eaf"
      },
      "source": [
        "#Just to see how data looks like inside the file\n",
        "i = intent_data['intents']\n",
        "intent_data['intents'][0][\"patterns\"]"
      ],
      "execution_count": 4,
      "outputs": [
        {
          "output_type": "execute_result",
          "data": {
            "text/plain": [
              "['Hi there',\n",
              " 'How are you',\n",
              " 'Is anyone there?',\n",
              " 'Hey',\n",
              " 'Hola',\n",
              " 'Hello',\n",
              " 'Good day']"
            ]
          },
          "metadata": {
            "tags": []
          },
          "execution_count": 4
        }
      ]
    },
    {
      "cell_type": "code",
      "metadata": {
        "id": "Qi8wlaA3QAN-"
      },
      "source": [
        "# Converting text into tokens and storing all classes variable\n",
        "for intent in intent_data['intents']:\n",
        "  for pattern in intent['patterns']:\n",
        "    #First we create a token for each word present in the patterns of intent_data\n",
        "    token = nltk.word_tokenize(pattern)\n",
        "    #Add created tokens to word variable\n",
        "    word.extend(token)\n",
        "    #add tokens and respective tags to documents in the corpus\n",
        "    doc.append((token, intent['tag']))\n",
        "    # add unique tags to classes list\n",
        "    if intent['tag'] not in classes:\n",
        "      classes.append(intent['tag'])\n"
      ],
      "execution_count": 5,
      "outputs": []
    },
    {
      "cell_type": "code",
      "metadata": {
        "colab": {
          "base_uri": "https://localhost:8080/"
        },
        "id": "kFTmCt1UoVIK",
        "outputId": "91a3f320-1cc2-48bf-84ff-5ef5469b409d"
      },
      "source": [
        "# Second we lemmaztize each word, convert them into lower alphabet and remove all the duplicates\n",
        "non_word = ['?', '!']\n",
        "word = [lemmatizer.lemmatize(w.lower()) for w in word if w not in non_word]\n",
        "word = sorted(list(set(word)))\n",
        "# sort classes\n",
        "classes = sorted(list(set(classes)))\n",
        "# documents = combination between patterns and intents\n",
        "print (len(doc), \"documents\")\n",
        "# classes = intents\n",
        "print (len(classes), \"classes\", classes)\n",
        "# words = all words, vocabulary\n",
        "print (len(word), \"unique lemmatized words\", word)"
      ],
      "execution_count": 6,
      "outputs": [
        {
          "output_type": "stream",
          "text": [
            "47 documents\n",
            "9 classes ['adverse_drug', 'blood_pressure', 'blood_pressure_search', 'goodbye', 'greeting', 'hospital_search', 'options', 'pharmacy_search', 'thanks']\n",
            "88 unique lemmatized words [\"'s\", ',', 'a', 'adverse', 'all', 'anyone', 'are', 'awesome', 'be', 'behavior', 'blood', 'by', 'bye', 'can', 'causing', 'chatting', 'check', 'could', 'data', 'day', 'detail', 'do', 'dont', 'drug', 'entry', 'find', 'for', 'give', 'good', 'goodbye', 'have', 'hello', 'help', 'helpful', 'helping', 'hey', 'hi', 'history', 'hola', 'hospital', 'how', 'i', 'id', 'is', 'later', 'list', 'load', 'locate', 'log', 'looking', 'lookup', 'management', 'me', 'module', 'nearby', 'next', 'nice', 'of', 'offered', 'open', 'patient', 'pharmacy', 'pressure', 'provide', 'reaction', 'related', 'result', 'search', 'searching', 'see', 'show', 'suitable', 'support', 'task', 'thank', 'thanks', 'that', 'there', 'till', 'time', 'to', 'transfer', 'up', 'want', 'what', 'which', 'with', 'you']\n"
          ],
          "name": "stdout"
        }
      ]
    },
    {
      "cell_type": "code",
      "metadata": {
        "id": "hosHIF8rvU7B"
      },
      "source": [
        "# creating training data to train the model\n",
        "train = []\n",
        "# creating empty array to store output\n",
        "output = [0] * len(classes)\n",
        "# creating training set and bag of words for each sentence\n",
        "for d in doc:\n",
        "    # initialize the bag of words\n",
        "    bag = []\n",
        "    # list of tokenized words for the pattern\n",
        "    token_word = d[0]\n",
        "    # creating lemma for each word, converting them to lower case \n",
        "    token_word = [lemmatizer.lemmatize(word.lower()) for word in token_word]\n",
        "    # Adding 1 to bag of words if a word match is found, 0 if not\n",
        "    for w in word:\n",
        "        bag.append(1) if w in token_word else bag.append(0)\n",
        "    \n",
        "    output_row = list(output)\n",
        "    output_row[classes.index(d[1])] = 1\n",
        "    \n",
        "    #creating Training Data\n",
        "    train.append([bag, output_row])"
      ],
      "execution_count": 7,
      "outputs": []
    },
    {
      "cell_type": "code",
      "metadata": {
        "colab": {
          "base_uri": "https://localhost:8080/"
        },
        "id": "jEAzG6VvwFVa",
        "outputId": "14f6a4f7-ca57-4231-c840-221581767913"
      },
      "source": [
        "# shuffing train data and cpnverting it into np.array\n",
        "random.shuffle(train)\n",
        "train = np.array(train)\n",
        "\n",
        "# creating train sets to train the model\n",
        "train_x = list(train[:,0])\n",
        "train_y = list(train[:,1])\n",
        "print(\"X:\", train_x)\n",
        "print(\"y:\",train_y)"
      ],
      "execution_count": 8,
      "outputs": [
        {
          "output_type": "stream",
          "text": [
            "X: [[0, 0, 0, 0, 0, 0, 0, 0, 0, 0, 0, 0, 0, 0, 0, 0, 0, 0, 0, 0, 0, 0, 0, 0, 0, 0, 0, 0, 0, 0, 0, 0, 0, 0, 0, 0, 0, 0, 1, 0, 0, 0, 0, 0, 0, 0, 0, 0, 0, 0, 0, 0, 0, 0, 0, 0, 0, 0, 0, 0, 0, 0, 0, 0, 0, 0, 0, 0, 0, 0, 0, 0, 0, 0, 0, 0, 0, 0, 0, 0, 0, 0, 0, 0, 0, 0, 0, 0], [0, 0, 0, 0, 0, 0, 0, 0, 0, 0, 0, 0, 0, 0, 0, 0, 0, 0, 0, 0, 0, 0, 0, 0, 0, 0, 1, 0, 0, 0, 0, 0, 0, 0, 0, 0, 0, 0, 0, 1, 0, 0, 0, 0, 0, 0, 0, 0, 0, 0, 1, 0, 0, 0, 0, 0, 0, 0, 0, 0, 1, 0, 0, 0, 0, 0, 0, 0, 0, 0, 0, 0, 0, 0, 0, 0, 0, 0, 0, 0, 0, 0, 0, 0, 0, 0, 0, 0], [0, 0, 0, 0, 0, 0, 0, 0, 0, 0, 0, 0, 0, 0, 0, 0, 0, 0, 0, 0, 0, 0, 0, 0, 0, 0, 1, 0, 0, 0, 0, 0, 0, 0, 0, 0, 0, 0, 0, 1, 0, 0, 0, 0, 0, 0, 0, 0, 0, 0, 0, 0, 0, 0, 0, 0, 0, 0, 0, 0, 1, 0, 0, 0, 0, 0, 0, 0, 1, 0, 0, 0, 0, 0, 0, 0, 0, 0, 0, 0, 1, 1, 0, 0, 0, 0, 0, 0], [0, 0, 0, 0, 0, 0, 0, 0, 0, 0, 0, 0, 0, 0, 0, 0, 0, 1, 0, 0, 0, 0, 0, 0, 0, 0, 0, 0, 0, 0, 0, 0, 1, 0, 0, 0, 0, 0, 0, 0, 1, 0, 0, 0, 0, 0, 0, 0, 0, 0, 0, 0, 1, 0, 0, 0, 0, 0, 0, 0, 0, 0, 0, 0, 0, 0, 0, 0, 0, 0, 0, 0, 0, 0, 0, 0, 0, 0, 0, 0, 0, 0, 0, 0, 0, 0, 0, 1], [0, 0, 0, 0, 0, 0, 0, 0, 0, 0, 1, 0, 0, 0, 0, 0, 0, 0, 1, 0, 0, 0, 0, 0, 1, 0, 0, 0, 0, 0, 0, 0, 0, 0, 0, 0, 0, 0, 0, 0, 0, 0, 0, 0, 0, 0, 0, 0, 0, 0, 0, 0, 0, 0, 0, 0, 0, 0, 0, 0, 0, 0, 1, 0, 0, 0, 0, 0, 0, 0, 0, 0, 0, 0, 0, 0, 0, 0, 0, 0, 0, 0, 0, 0, 0, 0, 0, 0], [0, 0, 0, 0, 0, 0, 0, 0, 0, 0, 0, 0, 0, 0, 0, 0, 0, 0, 0, 0, 1, 0, 0, 0, 0, 0, 0, 0, 0, 0, 0, 0, 0, 0, 0, 0, 0, 0, 0, 1, 0, 0, 0, 0, 0, 0, 0, 0, 0, 1, 0, 0, 0, 0, 0, 0, 0, 0, 0, 0, 0, 0, 0, 0, 0, 0, 0, 0, 0, 0, 0, 0, 0, 0, 0, 0, 0, 0, 0, 0, 0, 0, 1, 0, 0, 0, 0, 0], [0, 0, 0, 0, 0, 0, 0, 0, 0, 0, 1, 0, 0, 0, 0, 0, 0, 0, 0, 0, 0, 0, 0, 0, 0, 0, 0, 0, 0, 0, 0, 0, 0, 0, 0, 0, 0, 0, 0, 0, 0, 0, 0, 0, 0, 0, 0, 0, 0, 0, 0, 0, 0, 0, 0, 0, 0, 0, 0, 0, 0, 0, 1, 0, 0, 1, 0, 0, 0, 0, 0, 0, 0, 1, 0, 0, 0, 0, 0, 0, 1, 0, 0, 0, 0, 0, 0, 0], [0, 0, 0, 0, 0, 0, 0, 0, 0, 0, 0, 0, 0, 0, 0, 0, 0, 0, 0, 0, 0, 0, 0, 0, 0, 0, 0, 0, 0, 0, 0, 1, 0, 0, 0, 0, 0, 0, 0, 0, 0, 0, 0, 0, 0, 0, 0, 0, 0, 0, 0, 0, 0, 0, 0, 0, 0, 0, 0, 0, 0, 0, 0, 0, 0, 0, 0, 0, 0, 0, 0, 0, 0, 0, 0, 0, 0, 0, 0, 0, 0, 0, 0, 0, 0, 0, 0, 0], [0, 0, 1, 1, 0, 0, 0, 0, 0, 1, 0, 0, 0, 0, 1, 0, 0, 0, 0, 0, 0, 0, 0, 1, 0, 0, 0, 1, 0, 0, 0, 0, 0, 0, 0, 0, 0, 0, 0, 0, 0, 0, 0, 0, 0, 1, 0, 0, 0, 0, 0, 0, 1, 0, 0, 0, 0, 1, 0, 0, 0, 0, 0, 0, 0, 0, 0, 0, 0, 0, 0, 0, 0, 0, 0, 0, 0, 0, 0, 0, 0, 0, 0, 0, 0, 0, 0, 0], [0, 0, 0, 0, 0, 0, 0, 0, 0, 0, 0, 0, 0, 0, 0, 0, 0, 0, 1, 0, 0, 0, 0, 0, 0, 0, 0, 0, 0, 0, 0, 0, 0, 0, 0, 0, 0, 0, 0, 1, 0, 1, 0, 0, 0, 0, 0, 0, 0, 0, 0, 0, 0, 0, 0, 0, 0, 0, 0, 0, 0, 0, 0, 0, 0, 0, 0, 1, 0, 0, 0, 0, 0, 0, 0, 0, 0, 0, 0, 0, 1, 0, 0, 1, 0, 0, 0, 0], [0, 0, 0, 1, 0, 0, 0, 0, 0, 0, 0, 0, 0, 0, 0, 0, 1, 0, 0, 0, 0, 0, 0, 1, 0, 0, 0, 0, 0, 0, 0, 0, 0, 0, 0, 0, 0, 0, 0, 0, 1, 0, 0, 0, 0, 0, 0, 0, 0, 0, 0, 0, 0, 0, 0, 0, 0, 0, 0, 0, 0, 0, 0, 0, 1, 0, 0, 0, 0, 0, 0, 0, 0, 0, 0, 0, 0, 0, 0, 0, 1, 0, 0, 0, 0, 0, 0, 0], [0, 0, 0, 0, 0, 0, 0, 0, 0, 0, 0, 0, 0, 0, 0, 0, 0, 0, 0, 0, 0, 0, 0, 0, 0, 0, 0, 0, 0, 0, 0, 0, 0, 0, 0, 0, 0, 0, 0, 0, 0, 0, 0, 0, 0, 1, 0, 0, 0, 0, 0, 0, 0, 0, 1, 0, 0, 1, 0, 0, 0, 1, 0, 0, 0, 0, 0, 0, 0, 0, 0, 0, 0, 0, 0, 0, 0, 0, 0, 0, 0, 0, 0, 0, 0, 0, 0, 0], [0, 0, 0, 0, 0, 0, 0, 0, 0, 0, 1, 0, 0, 0, 0, 0, 0, 0, 1, 0, 0, 0, 0, 0, 0, 0, 0, 0, 0, 0, 0, 0, 0, 0, 0, 0, 0, 0, 0, 0, 0, 0, 0, 0, 0, 0, 0, 0, 0, 0, 0, 1, 0, 0, 0, 0, 0, 0, 0, 0, 0, 0, 1, 0, 0, 0, 0, 0, 0, 0, 0, 0, 0, 0, 0, 0, 0, 0, 0, 0, 0, 0, 0, 0, 0, 0, 0, 0], [0, 0, 0, 0, 0, 0, 0, 0, 0, 0, 0, 0, 0, 0, 0, 0, 0, 0, 0, 0, 0, 0, 0, 0, 0, 0, 0, 0, 0, 0, 0, 0, 0, 0, 0, 0, 0, 0, 0, 0, 0, 0, 0, 0, 1, 0, 0, 0, 0, 0, 0, 0, 0, 0, 0, 0, 0, 0, 0, 0, 0, 0, 0, 0, 0, 0, 0, 0, 0, 1, 0, 0, 0, 0, 0, 0, 0, 0, 0, 0, 0, 0, 0, 0, 0, 0, 0, 1], [0, 0, 0, 0, 0, 0, 0, 0, 0, 0, 0, 0, 0, 0, 0, 0, 0, 0, 0, 0, 0, 0, 0, 0, 0, 1, 0, 0, 0, 0, 0, 0, 0, 0, 0, 0, 0, 0, 0, 0, 0, 0, 0, 0, 0, 0, 0, 0, 0, 0, 0, 0, 0, 0, 0, 0, 0, 0, 0, 0, 0, 1, 0, 0, 0, 0, 0, 0, 0, 0, 0, 0, 0, 0, 0, 0, 0, 0, 0, 0, 0, 0, 0, 0, 0, 0, 0, 0], [0, 0, 0, 0, 0, 0, 0, 0, 0, 0, 0, 0, 0, 0, 0, 0, 0, 0, 0, 0, 0, 0, 0, 0, 0, 0, 0, 0, 0, 0, 0, 0, 0, 0, 0, 0, 0, 0, 0, 0, 0, 0, 0, 1, 0, 0, 0, 0, 0, 0, 0, 0, 0, 0, 0, 0, 0, 0, 1, 0, 0, 0, 0, 0, 0, 0, 0, 0, 0, 0, 0, 0, 1, 0, 0, 0, 0, 0, 0, 0, 0, 0, 0, 0, 1, 0, 0, 0], [0, 0, 0, 0, 0, 0, 0, 0, 0, 0, 0, 0, 1, 0, 0, 0, 0, 0, 0, 0, 0, 0, 0, 0, 0, 0, 0, 0, 0, 0, 0, 0, 0, 0, 0, 0, 0, 0, 0, 0, 0, 0, 0, 0, 0, 0, 0, 0, 0, 0, 0, 0, 0, 0, 0, 0, 0, 0, 0, 0, 0, 0, 0, 0, 0, 0, 0, 0, 0, 0, 0, 0, 0, 0, 0, 0, 0, 0, 0, 0, 0, 0, 0, 0, 0, 0, 0, 0], [0, 0, 0, 0, 0, 0, 0, 0, 0, 0, 1, 0, 0, 0, 0, 0, 0, 0, 0, 0, 0, 0, 0, 0, 0, 0, 0, 0, 0, 0, 0, 0, 0, 0, 0, 0, 0, 0, 0, 0, 0, 0, 0, 0, 0, 0, 0, 0, 0, 0, 0, 0, 0, 1, 0, 0, 0, 0, 0, 1, 0, 0, 1, 0, 0, 0, 0, 0, 0, 0, 0, 0, 0, 0, 0, 0, 0, 0, 0, 0, 0, 0, 0, 0, 0, 0, 0, 0], [0, 0, 1, 0, 0, 0, 0, 0, 0, 0, 0, 0, 0, 0, 0, 0, 0, 0, 0, 0, 0, 0, 0, 0, 0, 1, 0, 0, 0, 0, 0, 0, 0, 0, 0, 0, 0, 0, 0, 0, 0, 0, 0, 0, 0, 0, 0, 0, 0, 0, 0, 0, 1, 0, 0, 0, 0, 0, 0, 0, 0, 1, 0, 0, 0, 0, 0, 0, 0, 0, 0, 0, 0, 0, 0, 0, 0, 0, 0, 0, 0, 0, 0, 0, 0, 0, 0, 0], [1, 0, 0, 0, 0, 0, 0, 0, 0, 0, 0, 0, 0, 0, 0, 0, 0, 0, 0, 0, 0, 0, 0, 0, 0, 0, 0, 0, 0, 0, 0, 0, 0, 1, 0, 0, 0, 0, 0, 0, 0, 0, 0, 0, 0, 0, 0, 0, 0, 0, 0, 0, 0, 0, 0, 0, 0, 0, 0, 0, 0, 0, 0, 0, 0, 0, 0, 0, 0, 0, 0, 0, 0, 0, 0, 0, 1, 0, 0, 0, 0, 0, 0, 0, 0, 0, 0, 0], [0, 1, 0, 0, 0, 0, 0, 0, 0, 0, 0, 0, 1, 0, 0, 1, 0, 0, 0, 0, 0, 0, 0, 0, 0, 0, 0, 0, 0, 0, 0, 0, 0, 0, 0, 0, 0, 0, 0, 0, 0, 0, 0, 0, 0, 0, 0, 0, 0, 0, 0, 0, 0, 0, 0, 0, 1, 0, 0, 0, 0, 0, 0, 0, 0, 0, 0, 0, 0, 0, 0, 0, 0, 0, 0, 0, 0, 0, 0, 0, 1, 0, 0, 0, 0, 0, 0, 1], [0, 0, 0, 0, 0, 0, 0, 0, 0, 0, 0, 0, 0, 0, 0, 0, 0, 0, 0, 0, 0, 0, 0, 0, 0, 0, 0, 0, 0, 0, 0, 0, 0, 0, 0, 0, 0, 0, 0, 0, 0, 0, 0, 0, 0, 0, 0, 0, 0, 0, 0, 0, 0, 0, 0, 0, 0, 0, 0, 0, 0, 0, 0, 0, 0, 0, 0, 0, 0, 0, 0, 0, 0, 0, 1, 0, 0, 0, 0, 0, 0, 0, 0, 0, 0, 0, 0, 1], [0, 0, 0, 0, 0, 0, 0, 0, 0, 0, 0, 0, 0, 0, 0, 0, 0, 0, 0, 0, 0, 0, 0, 0, 0, 0, 0, 0, 0, 0, 0, 0, 0, 0, 0, 0, 0, 0, 0, 0, 0, 0, 0, 0, 0, 0, 0, 0, 0, 0, 0, 0, 0, 0, 0, 0, 0, 0, 0, 0, 0, 1, 0, 0, 0, 0, 0, 1, 0, 0, 0, 0, 0, 0, 0, 0, 0, 0, 0, 0, 0, 0, 0, 0, 0, 0, 0, 0], [0, 0, 0, 0, 0, 0, 0, 0, 0, 0, 0, 0, 0, 0, 0, 0, 0, 0, 0, 1, 0, 0, 0, 0, 0, 0, 0, 0, 1, 0, 0, 0, 0, 0, 0, 0, 0, 0, 0, 0, 0, 0, 0, 0, 0, 0, 0, 0, 0, 0, 0, 0, 0, 0, 0, 0, 0, 0, 0, 0, 0, 0, 0, 0, 0, 0, 0, 0, 0, 0, 0, 0, 0, 0, 0, 0, 0, 0, 0, 0, 0, 0, 0, 0, 0, 0, 0, 0], [0, 0, 0, 1, 0, 0, 0, 0, 0, 0, 0, 0, 0, 0, 0, 0, 0, 0, 0, 0, 0, 0, 1, 1, 0, 0, 0, 0, 0, 0, 1, 0, 0, 0, 0, 0, 0, 0, 0, 0, 0, 0, 0, 0, 0, 0, 0, 0, 0, 0, 0, 0, 0, 0, 0, 0, 0, 0, 0, 0, 0, 0, 0, 0, 1, 0, 0, 0, 0, 0, 0, 0, 0, 0, 0, 0, 0, 0, 0, 0, 0, 0, 0, 0, 0, 1, 0, 0], [0, 1, 0, 0, 0, 0, 0, 1, 0, 0, 0, 0, 0, 0, 0, 0, 0, 0, 0, 0, 0, 0, 0, 0, 0, 0, 0, 0, 0, 0, 0, 0, 0, 0, 0, 0, 0, 0, 0, 0, 0, 0, 0, 0, 0, 0, 0, 0, 0, 0, 0, 0, 0, 0, 0, 0, 0, 0, 0, 0, 0, 0, 0, 0, 0, 0, 0, 0, 0, 0, 0, 0, 0, 0, 0, 1, 0, 0, 0, 0, 0, 0, 0, 0, 0, 0, 0, 0], [0, 0, 0, 0, 0, 0, 0, 0, 0, 0, 1, 0, 0, 0, 0, 0, 0, 0, 0, 0, 0, 0, 0, 0, 0, 0, 1, 0, 0, 0, 0, 0, 0, 0, 0, 0, 0, 1, 0, 0, 0, 1, 0, 0, 0, 0, 0, 0, 0, 0, 0, 0, 0, 0, 0, 0, 0, 0, 0, 0, 0, 0, 1, 0, 0, 0, 1, 1, 0, 0, 0, 0, 0, 0, 0, 0, 0, 0, 0, 0, 1, 0, 0, 1, 0, 0, 0, 0], [0, 0, 0, 0, 0, 0, 1, 0, 0, 0, 0, 0, 0, 0, 0, 0, 0, 0, 0, 0, 0, 0, 0, 0, 0, 0, 0, 0, 0, 0, 0, 0, 0, 0, 0, 0, 0, 0, 0, 0, 1, 0, 0, 0, 0, 0, 0, 0, 0, 0, 0, 0, 0, 0, 0, 0, 0, 0, 0, 0, 0, 0, 0, 0, 0, 0, 0, 0, 0, 0, 0, 0, 0, 0, 0, 0, 0, 0, 0, 0, 0, 0, 0, 0, 0, 0, 0, 1], [0, 0, 0, 0, 0, 0, 0, 0, 0, 0, 1, 1, 0, 0, 0, 0, 0, 0, 0, 0, 0, 0, 0, 0, 0, 1, 0, 0, 0, 0, 0, 0, 0, 0, 0, 0, 0, 0, 0, 0, 0, 0, 1, 0, 0, 0, 0, 0, 0, 0, 0, 0, 0, 0, 0, 0, 0, 0, 0, 0, 0, 0, 1, 0, 0, 0, 1, 0, 0, 0, 0, 0, 0, 0, 0, 0, 0, 0, 0, 0, 0, 0, 0, 0, 0, 0, 0, 0], [0, 0, 0, 1, 1, 0, 0, 0, 0, 0, 0, 0, 0, 0, 0, 0, 0, 0, 0, 0, 0, 0, 0, 1, 0, 0, 1, 0, 0, 0, 0, 0, 0, 0, 0, 0, 0, 0, 0, 0, 0, 0, 0, 0, 0, 1, 0, 0, 0, 0, 0, 0, 0, 0, 0, 0, 0, 0, 0, 0, 1, 0, 0, 0, 1, 0, 0, 0, 0, 0, 0, 1, 0, 0, 0, 0, 0, 0, 0, 0, 0, 0, 0, 0, 0, 0, 1, 0], [0, 0, 0, 1, 0, 0, 0, 0, 0, 0, 0, 0, 0, 0, 0, 0, 0, 0, 0, 0, 0, 0, 0, 1, 0, 0, 0, 0, 0, 0, 0, 0, 0, 0, 0, 0, 0, 0, 0, 0, 0, 0, 0, 0, 0, 0, 0, 0, 0, 0, 0, 0, 0, 1, 0, 0, 0, 0, 0, 1, 0, 0, 0, 0, 0, 0, 0, 0, 0, 0, 0, 0, 0, 0, 0, 0, 0, 0, 0, 0, 0, 0, 0, 0, 0, 0, 0, 0], [0, 0, 0, 0, 0, 0, 0, 0, 0, 0, 1, 0, 0, 0, 0, 0, 0, 0, 0, 0, 0, 0, 0, 0, 0, 0, 0, 0, 0, 0, 0, 0, 0, 0, 0, 0, 0, 0, 0, 0, 0, 0, 0, 0, 0, 0, 1, 0, 0, 0, 0, 0, 0, 0, 0, 0, 0, 0, 0, 0, 1, 0, 1, 0, 0, 0, 1, 0, 0, 0, 0, 0, 0, 0, 0, 0, 0, 0, 0, 0, 0, 0, 0, 0, 0, 0, 0, 0], [0, 0, 0, 0, 0, 0, 0, 0, 1, 0, 0, 0, 0, 1, 0, 0, 0, 0, 0, 0, 0, 0, 0, 0, 0, 0, 0, 0, 0, 0, 0, 0, 0, 1, 0, 0, 0, 0, 0, 0, 1, 0, 0, 0, 0, 0, 0, 0, 0, 0, 0, 0, 0, 0, 0, 0, 0, 0, 0, 0, 0, 0, 0, 0, 0, 0, 0, 0, 0, 0, 0, 0, 0, 0, 0, 0, 0, 0, 0, 0, 0, 0, 0, 0, 0, 0, 0, 1], [0, 0, 0, 0, 0, 0, 0, 0, 0, 0, 1, 0, 0, 0, 0, 0, 0, 0, 0, 0, 0, 0, 0, 0, 0, 0, 1, 0, 0, 0, 0, 0, 0, 0, 0, 0, 0, 0, 0, 0, 0, 0, 0, 0, 0, 0, 0, 0, 0, 0, 0, 0, 0, 0, 0, 0, 0, 0, 0, 0, 1, 0, 1, 0, 0, 0, 1, 0, 0, 0, 1, 0, 0, 0, 0, 0, 0, 0, 0, 0, 0, 0, 0, 0, 0, 0, 0, 0], [0, 0, 0, 0, 0, 0, 0, 0, 0, 0, 1, 0, 0, 0, 0, 0, 0, 0, 0, 0, 0, 0, 0, 0, 0, 0, 1, 0, 0, 0, 0, 0, 0, 0, 0, 0, 0, 0, 0, 0, 0, 0, 0, 0, 0, 0, 0, 0, 0, 0, 0, 0, 0, 0, 0, 0, 0, 0, 0, 0, 1, 0, 1, 0, 0, 0, 0, 0, 0, 0, 0, 0, 0, 0, 0, 0, 0, 0, 0, 0, 0, 0, 0, 0, 0, 0, 0, 0], [0, 0, 0, 0, 0, 0, 0, 0, 0, 0, 0, 0, 0, 0, 0, 0, 0, 0, 0, 0, 0, 0, 0, 0, 0, 0, 0, 0, 0, 0, 0, 0, 0, 0, 0, 0, 0, 0, 0, 0, 0, 0, 0, 0, 0, 0, 0, 0, 0, 0, 0, 0, 0, 0, 0, 0, 0, 0, 0, 0, 0, 0, 0, 0, 0, 0, 0, 0, 0, 0, 0, 0, 0, 0, 0, 1, 0, 0, 0, 0, 0, 0, 0, 0, 0, 0, 0, 0], [0, 0, 0, 0, 0, 0, 0, 0, 0, 0, 0, 0, 0, 0, 0, 0, 0, 0, 0, 0, 0, 0, 0, 0, 0, 0, 0, 0, 0, 0, 0, 0, 0, 0, 0, 0, 0, 0, 0, 0, 0, 0, 0, 0, 0, 0, 0, 0, 0, 0, 0, 0, 0, 0, 0, 1, 0, 0, 0, 0, 0, 0, 0, 0, 0, 0, 0, 0, 0, 0, 0, 0, 0, 0, 0, 0, 0, 0, 1, 1, 0, 0, 0, 0, 0, 0, 0, 0], [0, 0, 0, 0, 0, 0, 0, 0, 0, 0, 0, 0, 0, 0, 0, 0, 0, 0, 0, 0, 0, 0, 0, 0, 0, 0, 0, 0, 0, 0, 0, 0, 0, 0, 0, 0, 0, 0, 0, 0, 0, 0, 0, 0, 0, 0, 0, 1, 0, 0, 0, 0, 0, 0, 0, 0, 0, 0, 0, 0, 0, 1, 0, 0, 0, 0, 0, 0, 0, 0, 0, 0, 0, 0, 0, 0, 0, 0, 0, 0, 0, 0, 0, 0, 0, 0, 0, 0], [0, 0, 0, 0, 0, 0, 0, 0, 0, 0, 1, 0, 0, 0, 0, 0, 0, 0, 0, 0, 0, 0, 0, 0, 0, 0, 0, 0, 0, 0, 0, 0, 0, 0, 0, 0, 0, 0, 0, 0, 0, 1, 0, 0, 0, 0, 0, 0, 1, 0, 0, 0, 0, 0, 0, 0, 0, 0, 0, 0, 0, 0, 1, 0, 0, 0, 1, 0, 0, 0, 0, 0, 0, 0, 0, 0, 0, 0, 0, 0, 1, 0, 0, 1, 0, 0, 0, 0], [0, 0, 0, 0, 0, 0, 0, 0, 0, 0, 0, 0, 0, 0, 0, 0, 0, 0, 0, 0, 0, 0, 0, 0, 0, 0, 1, 0, 0, 0, 0, 0, 0, 0, 0, 0, 0, 0, 0, 1, 0, 0, 0, 0, 0, 0, 0, 0, 0, 0, 1, 0, 0, 0, 0, 0, 0, 0, 0, 0, 0, 0, 0, 0, 0, 0, 0, 0, 0, 0, 0, 0, 0, 0, 0, 0, 0, 0, 0, 0, 0, 0, 0, 0, 0, 0, 0, 0], [0, 0, 0, 0, 0, 0, 0, 0, 0, 0, 0, 0, 0, 0, 0, 0, 0, 0, 0, 0, 0, 0, 0, 0, 0, 0, 1, 0, 0, 0, 0, 0, 0, 0, 1, 0, 0, 0, 0, 0, 0, 0, 0, 0, 0, 0, 0, 0, 0, 0, 0, 0, 1, 0, 0, 0, 0, 0, 0, 0, 0, 0, 0, 0, 0, 0, 0, 0, 0, 0, 0, 0, 0, 0, 0, 1, 0, 0, 0, 0, 0, 0, 0, 0, 0, 0, 0, 0], [0, 0, 0, 0, 0, 0, 0, 0, 0, 0, 0, 0, 0, 0, 0, 0, 0, 0, 0, 0, 0, 0, 0, 0, 0, 0, 0, 0, 0, 1, 0, 0, 0, 0, 0, 0, 0, 0, 0, 0, 0, 0, 0, 0, 0, 0, 0, 0, 0, 0, 0, 0, 0, 0, 0, 0, 0, 0, 0, 0, 0, 0, 0, 0, 0, 0, 0, 0, 0, 0, 0, 0, 0, 0, 0, 0, 0, 0, 0, 0, 0, 0, 0, 0, 0, 0, 0, 0], [0, 0, 0, 0, 0, 0, 0, 0, 0, 0, 0, 0, 0, 0, 0, 0, 0, 0, 0, 0, 0, 0, 0, 0, 0, 0, 0, 0, 0, 0, 0, 0, 0, 0, 0, 0, 1, 0, 0, 0, 0, 0, 0, 0, 0, 0, 0, 0, 0, 0, 0, 0, 0, 0, 0, 0, 0, 0, 0, 0, 0, 0, 0, 0, 0, 0, 0, 0, 0, 0, 0, 0, 0, 0, 0, 0, 0, 1, 0, 0, 0, 0, 0, 0, 0, 0, 0, 0], [0, 0, 0, 0, 0, 1, 0, 0, 0, 0, 0, 0, 0, 0, 0, 0, 0, 0, 0, 0, 0, 0, 0, 0, 0, 0, 0, 0, 0, 0, 0, 0, 0, 0, 0, 0, 0, 0, 0, 0, 0, 0, 0, 1, 0, 0, 0, 0, 0, 0, 0, 0, 0, 0, 0, 0, 0, 0, 0, 0, 0, 0, 0, 0, 0, 0, 0, 0, 0, 0, 0, 0, 0, 0, 0, 0, 0, 1, 0, 0, 0, 0, 0, 0, 0, 0, 0, 0], [0, 0, 0, 0, 0, 0, 0, 0, 0, 0, 0, 0, 0, 0, 0, 0, 0, 0, 0, 0, 0, 0, 0, 0, 0, 0, 0, 0, 0, 0, 0, 0, 0, 0, 0, 1, 0, 0, 0, 0, 0, 0, 0, 0, 0, 0, 0, 0, 0, 0, 0, 0, 0, 0, 0, 0, 0, 0, 0, 0, 0, 0, 0, 0, 0, 0, 0, 0, 0, 0, 0, 0, 0, 0, 0, 0, 0, 0, 0, 0, 0, 0, 0, 0, 0, 0, 0, 0], [0, 0, 0, 0, 0, 0, 0, 0, 0, 0, 0, 0, 0, 0, 0, 0, 0, 0, 0, 0, 0, 0, 0, 0, 0, 0, 0, 0, 0, 0, 0, 0, 1, 0, 0, 0, 0, 0, 0, 0, 0, 0, 0, 0, 0, 0, 0, 0, 0, 0, 0, 0, 0, 0, 0, 0, 0, 0, 0, 0, 0, 0, 0, 1, 0, 0, 0, 0, 0, 0, 0, 0, 0, 0, 0, 0, 0, 0, 0, 0, 0, 0, 0, 0, 1, 0, 0, 1], [0, 0, 0, 0, 0, 0, 0, 0, 0, 0, 0, 0, 0, 1, 0, 0, 0, 0, 0, 0, 0, 1, 0, 0, 0, 0, 0, 0, 0, 0, 0, 0, 0, 0, 0, 0, 0, 0, 0, 0, 0, 0, 0, 0, 0, 0, 0, 0, 0, 0, 0, 0, 0, 0, 0, 0, 0, 0, 0, 0, 0, 0, 0, 0, 0, 0, 0, 0, 0, 0, 0, 0, 0, 0, 0, 0, 0, 0, 0, 0, 0, 0, 0, 0, 1, 0, 0, 1]]\n",
            "y: [[0, 0, 0, 0, 1, 0, 0, 0, 0], [0, 0, 0, 0, 0, 1, 0, 0, 0], [0, 0, 0, 0, 0, 1, 0, 0, 0], [0, 0, 0, 0, 0, 0, 1, 0, 0], [0, 1, 0, 0, 0, 0, 0, 0, 0], [0, 0, 0, 0, 0, 1, 0, 0, 0], [0, 1, 0, 0, 0, 0, 0, 0, 0], [0, 0, 0, 0, 1, 0, 0, 0, 0], [1, 0, 0, 0, 0, 0, 0, 0, 0], [0, 0, 0, 0, 0, 1, 0, 0, 0], [1, 0, 0, 0, 0, 0, 0, 0, 0], [0, 0, 0, 0, 0, 0, 0, 1, 0], [0, 1, 0, 0, 0, 0, 0, 0, 0], [0, 0, 0, 1, 0, 0, 0, 0, 0], [0, 0, 0, 0, 0, 0, 0, 1, 0], [0, 0, 0, 0, 0, 0, 1, 0, 0], [0, 0, 0, 1, 0, 0, 0, 0, 0], [0, 1, 0, 0, 0, 0, 0, 0, 0], [0, 0, 0, 0, 0, 0, 0, 1, 0], [0, 0, 0, 0, 0, 0, 0, 0, 1], [0, 0, 0, 1, 0, 0, 0, 0, 0], [0, 0, 0, 0, 0, 0, 0, 0, 1], [0, 0, 0, 0, 0, 0, 0, 1, 0], [0, 0, 0, 0, 1, 0, 0, 0, 0], [1, 0, 0, 0, 0, 0, 0, 0, 0], [0, 0, 0, 0, 0, 0, 0, 0, 1], [0, 0, 1, 0, 0, 0, 0, 0, 0], [0, 0, 0, 0, 1, 0, 0, 0, 0], [0, 0, 1, 0, 0, 0, 0, 0, 0], [1, 0, 0, 0, 0, 0, 0, 0, 0], [1, 0, 0, 0, 0, 0, 0, 0, 0], [0, 0, 1, 0, 0, 0, 0, 0, 0], [0, 0, 0, 0, 0, 0, 1, 0, 0], [0, 0, 1, 0, 0, 0, 0, 0, 0], [0, 0, 1, 0, 0, 0, 0, 0, 0], [0, 0, 0, 0, 0, 0, 0, 0, 1], [0, 0, 0, 1, 0, 0, 0, 0, 0], [0, 0, 0, 0, 0, 0, 0, 1, 0], [0, 1, 0, 0, 0, 0, 0, 0, 0], [0, 0, 0, 0, 0, 1, 0, 0, 0], [0, 0, 0, 0, 0, 0, 0, 0, 1], [0, 0, 0, 1, 0, 0, 0, 0, 0], [0, 0, 0, 0, 1, 0, 0, 0, 0], [0, 0, 0, 0, 1, 0, 0, 0, 0], [0, 0, 0, 0, 1, 0, 0, 0, 0], [0, 0, 0, 0, 0, 0, 1, 0, 0], [0, 0, 0, 0, 0, 0, 1, 0, 0]]\n"
          ],
          "name": "stdout"
        },
        {
          "output_type": "stream",
          "text": [
            "/usr/local/lib/python3.7/dist-packages/ipykernel_launcher.py:3: VisibleDeprecationWarning: Creating an ndarray from ragged nested sequences (which is a list-or-tuple of lists-or-tuples-or ndarrays with different lengths or shapes) is deprecated. If you meant to do this, you must specify 'dtype=object' when creating the ndarray\n",
            "  This is separate from the ipykernel package so we can avoid doing imports until\n"
          ],
          "name": "stderr"
        }
      ]
    },
    {
      "cell_type": "code",
      "metadata": {
        "id": "DQlvvNKyzJPn"
      },
      "source": [
        "# Creating NN model with three layers. \n",
        "# 1st - 128 neurons\n",
        "# 2nd - 64 neurons \n",
        "# 3rd - output layer contains number of neurons\n",
        "# equal to number of intents to predict output intent with softmax\n",
        "model = Sequential()\n",
        "model.add(Dense(128, input_shape=(len(train_x[0]),), activation='relu'))\n",
        "model.add(Dropout(0.5))\n",
        "model.add(Dense(64, activation='relu'))\n",
        "model.add(Dropout(0.5))\n",
        "model.add(Dense(len(train_y[0]), activation='softmax'))"
      ],
      "execution_count": 9,
      "outputs": []
    },
    {
      "cell_type": "code",
      "metadata": {
        "id": "xDpEjNLIzoyy",
        "colab": {
          "base_uri": "https://localhost:8080/"
        },
        "outputId": "48146af1-1636-4d50-835e-301ac7d85b42"
      },
      "source": [
        "# Compiling the model. Using SGD with Nesterov accelerated gradient. Using Cross Entropy as loss\n",
        "sgd = SGD(lr=0.01, decay=1e-6, momentum=0.9, nesterov=True)\n",
        "model.compile(loss='categorical_crossentropy', optimizer=sgd, metrics=['accuracy'])\n",
        "\n",
        "#fitting the model\n",
        "model.fit(np.array(train_x), np.array(train_y), epochs=200, batch_size=5, verbose=1)\n",
        "\n",
        "print(\"model created\")"
      ],
      "execution_count": 10,
      "outputs": [
        {
          "output_type": "stream",
          "text": [
            "Epoch 1/200\n",
            "10/10 [==============================] - 1s 2ms/step - loss: 2.1579 - accuracy: 0.1996\n",
            "Epoch 2/200\n",
            "10/10 [==============================] - 0s 2ms/step - loss: 2.1389 - accuracy: 0.1694\n",
            "Epoch 3/200\n",
            "10/10 [==============================] - 0s 2ms/step - loss: 2.1214 - accuracy: 0.1248\n",
            "Epoch 4/200\n",
            "10/10 [==============================] - 0s 2ms/step - loss: 1.9133 - accuracy: 0.4558\n",
            "Epoch 5/200\n",
            "10/10 [==============================] - 0s 2ms/step - loss: 1.8854 - accuracy: 0.4366\n",
            "Epoch 6/200\n",
            "10/10 [==============================] - 0s 2ms/step - loss: 1.6818 - accuracy: 0.5225\n",
            "Epoch 7/200\n",
            "10/10 [==============================] - 0s 2ms/step - loss: 1.4905 - accuracy: 0.5690\n",
            "Epoch 8/200\n",
            "10/10 [==============================] - 0s 2ms/step - loss: 1.4539 - accuracy: 0.7172\n",
            "Epoch 9/200\n",
            "10/10 [==============================] - 0s 2ms/step - loss: 1.3187 - accuracy: 0.7624\n",
            "Epoch 10/200\n",
            "10/10 [==============================] - 0s 2ms/step - loss: 1.1845 - accuracy: 0.7591\n",
            "Epoch 11/200\n",
            "10/10 [==============================] - 0s 2ms/step - loss: 1.0516 - accuracy: 0.6617\n",
            "Epoch 12/200\n",
            "10/10 [==============================] - 0s 1ms/step - loss: 1.0641 - accuracy: 0.7389\n",
            "Epoch 13/200\n",
            "10/10 [==============================] - 0s 2ms/step - loss: 0.7647 - accuracy: 0.8135\n",
            "Epoch 14/200\n",
            "10/10 [==============================] - 0s 2ms/step - loss: 0.7924 - accuracy: 0.7932\n",
            "Epoch 15/200\n",
            "10/10 [==============================] - 0s 3ms/step - loss: 0.5198 - accuracy: 0.8370\n",
            "Epoch 16/200\n",
            "10/10 [==============================] - 0s 2ms/step - loss: 0.7541 - accuracy: 0.8496\n",
            "Epoch 17/200\n",
            "10/10 [==============================] - 0s 2ms/step - loss: 0.5682 - accuracy: 0.8224\n",
            "Epoch 18/200\n",
            "10/10 [==============================] - 0s 2ms/step - loss: 0.6092 - accuracy: 0.8055\n",
            "Epoch 19/200\n",
            "10/10 [==============================] - 0s 2ms/step - loss: 0.6616 - accuracy: 0.7855\n",
            "Epoch 20/200\n",
            "10/10 [==============================] - 0s 2ms/step - loss: 0.5293 - accuracy: 0.7812\n",
            "Epoch 21/200\n",
            "10/10 [==============================] - 0s 2ms/step - loss: 0.5743 - accuracy: 0.8952\n",
            "Epoch 22/200\n",
            "10/10 [==============================] - 0s 2ms/step - loss: 0.4392 - accuracy: 0.8582\n",
            "Epoch 23/200\n",
            "10/10 [==============================] - 0s 2ms/step - loss: 0.4744 - accuracy: 0.9125\n",
            "Epoch 24/200\n",
            "10/10 [==============================] - 0s 2ms/step - loss: 0.4805 - accuracy: 0.8963\n",
            "Epoch 25/200\n",
            "10/10 [==============================] - 0s 2ms/step - loss: 0.4727 - accuracy: 0.8347\n",
            "Epoch 26/200\n",
            "10/10 [==============================] - 0s 2ms/step - loss: 0.3273 - accuracy: 0.8961\n",
            "Epoch 27/200\n",
            "10/10 [==============================] - 0s 2ms/step - loss: 0.4198 - accuracy: 0.8659\n",
            "Epoch 28/200\n",
            "10/10 [==============================] - 0s 1ms/step - loss: 0.4008 - accuracy: 0.9201\n",
            "Epoch 29/200\n",
            "10/10 [==============================] - 0s 2ms/step - loss: 0.2167 - accuracy: 0.9580\n",
            "Epoch 30/200\n",
            "10/10 [==============================] - 0s 2ms/step - loss: 0.2178 - accuracy: 0.9129\n",
            "Epoch 31/200\n",
            "10/10 [==============================] - 0s 3ms/step - loss: 0.2146 - accuracy: 0.9567\n",
            "Epoch 32/200\n",
            "10/10 [==============================] - 0s 2ms/step - loss: 0.2355 - accuracy: 0.9637\n",
            "Epoch 33/200\n",
            "10/10 [==============================] - 0s 2ms/step - loss: 0.3007 - accuracy: 0.9024\n",
            "Epoch 34/200\n",
            "10/10 [==============================] - 0s 2ms/step - loss: 0.2217 - accuracy: 0.9787\n",
            "Epoch 35/200\n",
            "10/10 [==============================] - 0s 2ms/step - loss: 0.3333 - accuracy: 0.9227\n",
            "Epoch 36/200\n",
            "10/10 [==============================] - 0s 2ms/step - loss: 0.1860 - accuracy: 0.9453\n",
            "Epoch 37/200\n",
            "10/10 [==============================] - 0s 2ms/step - loss: 0.3042 - accuracy: 0.9120\n",
            "Epoch 38/200\n",
            "10/10 [==============================] - 0s 2ms/step - loss: 0.3624 - accuracy: 0.8140\n",
            "Epoch 39/200\n",
            "10/10 [==============================] - 0s 2ms/step - loss: 0.2931 - accuracy: 0.9506\n",
            "Epoch 40/200\n",
            "10/10 [==============================] - 0s 2ms/step - loss: 0.2261 - accuracy: 0.9767\n",
            "Epoch 41/200\n",
            "10/10 [==============================] - 0s 2ms/step - loss: 0.1190 - accuracy: 0.9862\n",
            "Epoch 42/200\n",
            "10/10 [==============================] - 0s 2ms/step - loss: 0.1057 - accuracy: 1.0000\n",
            "Epoch 43/200\n",
            "10/10 [==============================] - 0s 2ms/step - loss: 0.1175 - accuracy: 0.9720\n",
            "Epoch 44/200\n",
            "10/10 [==============================] - 0s 2ms/step - loss: 0.2054 - accuracy: 0.9348\n",
            "Epoch 45/200\n",
            "10/10 [==============================] - 0s 2ms/step - loss: 0.1099 - accuracy: 0.9941\n",
            "Epoch 46/200\n",
            "10/10 [==============================] - 0s 2ms/step - loss: 0.1806 - accuracy: 0.9780\n",
            "Epoch 47/200\n",
            "10/10 [==============================] - 0s 2ms/step - loss: 0.0602 - accuracy: 0.9941\n",
            "Epoch 48/200\n",
            "10/10 [==============================] - 0s 1ms/step - loss: 0.0814 - accuracy: 1.0000\n",
            "Epoch 49/200\n",
            "10/10 [==============================] - 0s 2ms/step - loss: 0.1659 - accuracy: 0.9545\n",
            "Epoch 50/200\n",
            "10/10 [==============================] - 0s 2ms/step - loss: 0.0653 - accuracy: 0.9892\n",
            "Epoch 51/200\n",
            "10/10 [==============================] - 0s 3ms/step - loss: 0.0914 - accuracy: 0.9606\n",
            "Epoch 52/200\n",
            "10/10 [==============================] - 0s 3ms/step - loss: 0.0422 - accuracy: 0.9941\n",
            "Epoch 53/200\n",
            "10/10 [==============================] - 0s 2ms/step - loss: 0.2474 - accuracy: 0.9076\n",
            "Epoch 54/200\n",
            "10/10 [==============================] - 0s 2ms/step - loss: 0.0339 - accuracy: 1.0000\n",
            "Epoch 55/200\n",
            "10/10 [==============================] - 0s 2ms/step - loss: 0.1350 - accuracy: 0.9455\n",
            "Epoch 56/200\n",
            "10/10 [==============================] - 0s 2ms/step - loss: 0.0825 - accuracy: 1.0000\n",
            "Epoch 57/200\n",
            "10/10 [==============================] - 0s 2ms/step - loss: 0.1799 - accuracy: 0.9629\n",
            "Epoch 58/200\n",
            "10/10 [==============================] - 0s 2ms/step - loss: 0.1260 - accuracy: 0.9309\n",
            "Epoch 59/200\n",
            "10/10 [==============================] - 0s 2ms/step - loss: 0.0696 - accuracy: 0.9961\n",
            "Epoch 60/200\n",
            "10/10 [==============================] - 0s 2ms/step - loss: 0.0850 - accuracy: 0.9941\n",
            "Epoch 61/200\n",
            "10/10 [==============================] - 0s 2ms/step - loss: 0.0717 - accuracy: 0.9862\n",
            "Epoch 62/200\n",
            "10/10 [==============================] - 0s 2ms/step - loss: 0.1946 - accuracy: 0.9629\n",
            "Epoch 63/200\n",
            "10/10 [==============================] - 0s 2ms/step - loss: 0.0765 - accuracy: 1.0000\n",
            "Epoch 64/200\n",
            "10/10 [==============================] - 0s 2ms/step - loss: 0.0945 - accuracy: 0.9780\n",
            "Epoch 65/200\n",
            "10/10 [==============================] - 0s 2ms/step - loss: 0.0502 - accuracy: 0.9862\n",
            "Epoch 66/200\n",
            "10/10 [==============================] - 0s 2ms/step - loss: 0.0523 - accuracy: 1.0000\n",
            "Epoch 67/200\n",
            "10/10 [==============================] - 0s 2ms/step - loss: 0.0745 - accuracy: 1.0000\n",
            "Epoch 68/200\n",
            "10/10 [==============================] - 0s 2ms/step - loss: 0.0975 - accuracy: 0.9341\n",
            "Epoch 69/200\n",
            "10/10 [==============================] - 0s 2ms/step - loss: 0.0296 - accuracy: 1.0000\n",
            "Epoch 70/200\n",
            "10/10 [==============================] - 0s 3ms/step - loss: 0.0558 - accuracy: 1.0000\n",
            "Epoch 71/200\n",
            "10/10 [==============================] - 0s 3ms/step - loss: 0.0184 - accuracy: 1.0000\n",
            "Epoch 72/200\n",
            "10/10 [==============================] - 0s 3ms/step - loss: 0.0273 - accuracy: 1.0000\n",
            "Epoch 73/200\n",
            "10/10 [==============================] - 0s 2ms/step - loss: 0.0990 - accuracy: 0.9918\n",
            "Epoch 74/200\n",
            "10/10 [==============================] - 0s 2ms/step - loss: 0.0695 - accuracy: 0.9826\n",
            "Epoch 75/200\n",
            "10/10 [==============================] - 0s 2ms/step - loss: 0.1246 - accuracy: 0.9918\n",
            "Epoch 76/200\n",
            "10/10 [==============================] - 0s 2ms/step - loss: 0.0255 - accuracy: 1.0000\n",
            "Epoch 77/200\n",
            "10/10 [==============================] - 0s 2ms/step - loss: 0.1031 - accuracy: 0.9892\n",
            "Epoch 78/200\n",
            "10/10 [==============================] - 0s 2ms/step - loss: 0.0385 - accuracy: 0.9780\n",
            "Epoch 79/200\n",
            "10/10 [==============================] - 0s 2ms/step - loss: 0.1279 - accuracy: 0.9545\n",
            "Epoch 80/200\n",
            "10/10 [==============================] - 0s 2ms/step - loss: 0.0594 - accuracy: 0.9892\n",
            "Epoch 81/200\n",
            "10/10 [==============================] - 0s 2ms/step - loss: 0.1464 - accuracy: 0.9629\n",
            "Epoch 82/200\n",
            "10/10 [==============================] - 0s 2ms/step - loss: 0.0280 - accuracy: 1.0000\n",
            "Epoch 83/200\n",
            "10/10 [==============================] - 0s 2ms/step - loss: 0.0177 - accuracy: 1.0000\n",
            "Epoch 84/200\n",
            "10/10 [==============================] - 0s 2ms/step - loss: 0.0623 - accuracy: 1.0000\n",
            "Epoch 85/200\n",
            "10/10 [==============================] - 0s 2ms/step - loss: 0.0548 - accuracy: 0.9862\n",
            "Epoch 86/200\n",
            "10/10 [==============================] - 0s 2ms/step - loss: 0.1422 - accuracy: 0.9487\n",
            "Epoch 87/200\n",
            "10/10 [==============================] - 0s 2ms/step - loss: 0.0618 - accuracy: 1.0000\n",
            "Epoch 88/200\n",
            "10/10 [==============================] - 0s 2ms/step - loss: 0.0366 - accuracy: 1.0000\n",
            "Epoch 89/200\n",
            "10/10 [==============================] - 0s 2ms/step - loss: 0.0169 - accuracy: 1.0000\n",
            "Epoch 90/200\n",
            "10/10 [==============================] - 0s 3ms/step - loss: 0.0311 - accuracy: 1.0000\n",
            "Epoch 91/200\n",
            "10/10 [==============================] - 0s 2ms/step - loss: 0.0273 - accuracy: 1.0000\n",
            "Epoch 92/200\n",
            "10/10 [==============================] - 0s 2ms/step - loss: 0.0825 - accuracy: 0.9826\n",
            "Epoch 93/200\n",
            "10/10 [==============================] - 0s 2ms/step - loss: 0.0084 - accuracy: 1.0000\n",
            "Epoch 94/200\n",
            "10/10 [==============================] - 0s 2ms/step - loss: 0.1132 - accuracy: 0.9718\n",
            "Epoch 95/200\n",
            "10/10 [==============================] - 0s 2ms/step - loss: 0.0291 - accuracy: 1.0000\n",
            "Epoch 96/200\n",
            "10/10 [==============================] - 0s 2ms/step - loss: 0.0451 - accuracy: 0.9826\n",
            "Epoch 97/200\n",
            "10/10 [==============================] - 0s 2ms/step - loss: 0.0563 - accuracy: 1.0000\n",
            "Epoch 98/200\n",
            "10/10 [==============================] - 0s 2ms/step - loss: 0.0118 - accuracy: 1.0000\n",
            "Epoch 99/200\n",
            "10/10 [==============================] - 0s 2ms/step - loss: 0.0148 - accuracy: 1.0000\n",
            "Epoch 100/200\n",
            "10/10 [==============================] - 0s 2ms/step - loss: 0.0286 - accuracy: 1.0000\n",
            "Epoch 101/200\n",
            "10/10 [==============================] - 0s 2ms/step - loss: 0.0455 - accuracy: 1.0000\n",
            "Epoch 102/200\n",
            "10/10 [==============================] - 0s 2ms/step - loss: 0.0412 - accuracy: 0.9642\n",
            "Epoch 103/200\n",
            "10/10 [==============================] - 0s 2ms/step - loss: 0.0091 - accuracy: 1.0000\n",
            "Epoch 104/200\n",
            "10/10 [==============================] - 0s 3ms/step - loss: 0.1079 - accuracy: 0.9521\n",
            "Epoch 105/200\n",
            "10/10 [==============================] - 0s 2ms/step - loss: 0.0300 - accuracy: 0.9961\n",
            "Epoch 106/200\n",
            "10/10 [==============================] - 0s 2ms/step - loss: 0.0202 - accuracy: 1.0000\n",
            "Epoch 107/200\n",
            "10/10 [==============================] - 0s 3ms/step - loss: 0.0131 - accuracy: 1.0000\n",
            "Epoch 108/200\n",
            "10/10 [==============================] - 0s 2ms/step - loss: 0.0298 - accuracy: 1.0000\n",
            "Epoch 109/200\n",
            "10/10 [==============================] - 0s 2ms/step - loss: 0.0205 - accuracy: 1.0000\n",
            "Epoch 110/200\n",
            "10/10 [==============================] - 0s 2ms/step - loss: 0.0165 - accuracy: 1.0000\n",
            "Epoch 111/200\n",
            "10/10 [==============================] - 0s 2ms/step - loss: 0.0239 - accuracy: 1.0000\n",
            "Epoch 112/200\n",
            "10/10 [==============================] - 0s 2ms/step - loss: 0.0648 - accuracy: 0.9918\n",
            "Epoch 113/200\n",
            "10/10 [==============================] - 0s 2ms/step - loss: 0.0315 - accuracy: 1.0000\n",
            "Epoch 114/200\n",
            "10/10 [==============================] - 0s 2ms/step - loss: 0.0031 - accuracy: 1.0000\n",
            "Epoch 115/200\n",
            "10/10 [==============================] - 0s 2ms/step - loss: 0.0091 - accuracy: 1.0000\n",
            "Epoch 116/200\n",
            "10/10 [==============================] - 0s 2ms/step - loss: 0.0733 - accuracy: 1.0000\n",
            "Epoch 117/200\n",
            "10/10 [==============================] - 0s 2ms/step - loss: 0.0326 - accuracy: 1.0000\n",
            "Epoch 118/200\n",
            "10/10 [==============================] - 0s 2ms/step - loss: 0.0170 - accuracy: 1.0000\n",
            "Epoch 119/200\n",
            "10/10 [==============================] - 0s 2ms/step - loss: 0.0363 - accuracy: 0.9892\n",
            "Epoch 120/200\n",
            "10/10 [==============================] - 0s 2ms/step - loss: 0.0215 - accuracy: 1.0000\n",
            "Epoch 121/200\n",
            "10/10 [==============================] - 0s 2ms/step - loss: 0.0641 - accuracy: 0.9892\n",
            "Epoch 122/200\n",
            "10/10 [==============================] - 0s 2ms/step - loss: 0.0589 - accuracy: 0.9862\n",
            "Epoch 123/200\n",
            "10/10 [==============================] - 0s 2ms/step - loss: 0.0100 - accuracy: 1.0000\n",
            "Epoch 124/200\n",
            "10/10 [==============================] - 0s 2ms/step - loss: 0.0216 - accuracy: 0.9892\n",
            "Epoch 125/200\n",
            "10/10 [==============================] - 0s 3ms/step - loss: 0.0507 - accuracy: 1.0000\n",
            "Epoch 126/200\n",
            "10/10 [==============================] - 0s 2ms/step - loss: 0.0074 - accuracy: 1.0000\n",
            "Epoch 127/200\n",
            "10/10 [==============================] - 0s 2ms/step - loss: 0.0170 - accuracy: 1.0000\n",
            "Epoch 128/200\n",
            "10/10 [==============================] - 0s 2ms/step - loss: 0.0939 - accuracy: 0.9447\n",
            "Epoch 129/200\n",
            "10/10 [==============================] - 0s 2ms/step - loss: 0.0199 - accuracy: 1.0000\n",
            "Epoch 130/200\n",
            "10/10 [==============================] - 0s 2ms/step - loss: 0.0168 - accuracy: 1.0000\n",
            "Epoch 131/200\n",
            "10/10 [==============================] - 0s 2ms/step - loss: 0.0070 - accuracy: 1.0000\n",
            "Epoch 132/200\n",
            "10/10 [==============================] - 0s 2ms/step - loss: 0.0416 - accuracy: 1.0000\n",
            "Epoch 133/200\n",
            "10/10 [==============================] - 0s 2ms/step - loss: 0.0179 - accuracy: 1.0000\n",
            "Epoch 134/200\n",
            "10/10 [==============================] - 0s 2ms/step - loss: 0.0096 - accuracy: 1.0000\n",
            "Epoch 135/200\n",
            "10/10 [==============================] - 0s 2ms/step - loss: 0.0664 - accuracy: 0.9720\n",
            "Epoch 136/200\n",
            "10/10 [==============================] - 0s 2ms/step - loss: 0.0054 - accuracy: 1.0000\n",
            "Epoch 137/200\n",
            "10/10 [==============================] - 0s 2ms/step - loss: 0.0275 - accuracy: 0.9862\n",
            "Epoch 138/200\n",
            "10/10 [==============================] - 0s 2ms/step - loss: 0.0422 - accuracy: 1.0000\n",
            "Epoch 139/200\n",
            "10/10 [==============================] - 0s 2ms/step - loss: 0.0228 - accuracy: 1.0000\n",
            "Epoch 140/200\n",
            "10/10 [==============================] - 0s 2ms/step - loss: 0.0391 - accuracy: 1.0000\n",
            "Epoch 141/200\n",
            "10/10 [==============================] - 0s 2ms/step - loss: 0.0318 - accuracy: 0.9720\n",
            "Epoch 142/200\n",
            "10/10 [==============================] - 0s 2ms/step - loss: 0.0388 - accuracy: 1.0000\n",
            "Epoch 143/200\n",
            "10/10 [==============================] - 0s 2ms/step - loss: 0.0423 - accuracy: 0.9720\n",
            "Epoch 144/200\n",
            "10/10 [==============================] - 0s 3ms/step - loss: 0.0319 - accuracy: 1.0000\n",
            "Epoch 145/200\n",
            "10/10 [==============================] - 0s 3ms/step - loss: 0.0471 - accuracy: 0.9720\n",
            "Epoch 146/200\n",
            "10/10 [==============================] - 0s 3ms/step - loss: 0.1159 - accuracy: 0.9348\n",
            "Epoch 147/200\n",
            "10/10 [==============================] - 0s 2ms/step - loss: 0.0077 - accuracy: 1.0000\n",
            "Epoch 148/200\n",
            "10/10 [==============================] - 0s 3ms/step - loss: 0.0678 - accuracy: 0.9720\n",
            "Epoch 149/200\n",
            "10/10 [==============================] - 0s 2ms/step - loss: 0.0123 - accuracy: 1.0000\n",
            "Epoch 150/200\n",
            "10/10 [==============================] - 0s 2ms/step - loss: 0.0959 - accuracy: 0.9455\n",
            "Epoch 151/200\n",
            "10/10 [==============================] - 0s 2ms/step - loss: 0.0435 - accuracy: 0.9720\n",
            "Epoch 152/200\n",
            "10/10 [==============================] - 0s 2ms/step - loss: 0.0321 - accuracy: 1.0000\n",
            "Epoch 153/200\n",
            "10/10 [==============================] - 0s 3ms/step - loss: 0.1116 - accuracy: 0.9755\n",
            "Epoch 154/200\n",
            "10/10 [==============================] - 0s 2ms/step - loss: 0.0115 - accuracy: 1.0000\n",
            "Epoch 155/200\n",
            "10/10 [==============================] - 0s 2ms/step - loss: 0.0288 - accuracy: 1.0000\n",
            "Epoch 156/200\n",
            "10/10 [==============================] - 0s 2ms/step - loss: 0.0346 - accuracy: 0.9755\n",
            "Epoch 157/200\n",
            "10/10 [==============================] - 0s 3ms/step - loss: 0.0259 - accuracy: 1.0000\n",
            "Epoch 158/200\n",
            "10/10 [==============================] - 0s 2ms/step - loss: 0.0254 - accuracy: 1.0000\n",
            "Epoch 159/200\n",
            "10/10 [==============================] - 0s 2ms/step - loss: 0.0352 - accuracy: 1.0000\n",
            "Epoch 160/200\n",
            "10/10 [==============================] - 0s 3ms/step - loss: 0.0414 - accuracy: 1.0000\n",
            "Epoch 161/200\n",
            "10/10 [==============================] - 0s 2ms/step - loss: 0.0208 - accuracy: 1.0000\n",
            "Epoch 162/200\n",
            "10/10 [==============================] - 0s 2ms/step - loss: 0.0103 - accuracy: 1.0000\n",
            "Epoch 163/200\n",
            "10/10 [==============================] - 0s 2ms/step - loss: 0.1461 - accuracy: 0.9455\n",
            "Epoch 164/200\n",
            "10/10 [==============================] - 0s 2ms/step - loss: 0.0196 - accuracy: 1.0000\n",
            "Epoch 165/200\n",
            "10/10 [==============================] - 0s 2ms/step - loss: 0.0102 - accuracy: 1.0000\n",
            "Epoch 166/200\n",
            "10/10 [==============================] - 0s 2ms/step - loss: 0.0182 - accuracy: 0.9918\n",
            "Epoch 167/200\n",
            "10/10 [==============================] - 0s 3ms/step - loss: 0.0169 - accuracy: 1.0000\n",
            "Epoch 168/200\n",
            "10/10 [==============================] - 0s 2ms/step - loss: 0.0690 - accuracy: 0.9780\n",
            "Epoch 169/200\n",
            "10/10 [==============================] - 0s 2ms/step - loss: 0.0164 - accuracy: 1.0000\n",
            "Epoch 170/200\n",
            "10/10 [==============================] - 0s 2ms/step - loss: 0.0022 - accuracy: 1.0000\n",
            "Epoch 171/200\n",
            "10/10 [==============================] - 0s 2ms/step - loss: 0.0156 - accuracy: 1.0000\n",
            "Epoch 172/200\n",
            "10/10 [==============================] - 0s 2ms/step - loss: 0.0124 - accuracy: 1.0000\n",
            "Epoch 173/200\n",
            "10/10 [==============================] - 0s 3ms/step - loss: 0.0039 - accuracy: 1.0000\n",
            "Epoch 174/200\n",
            "10/10 [==============================] - 0s 2ms/step - loss: 0.0101 - accuracy: 1.0000\n",
            "Epoch 175/200\n",
            "10/10 [==============================] - 0s 2ms/step - loss: 0.0120 - accuracy: 1.0000\n",
            "Epoch 176/200\n",
            "10/10 [==============================] - 0s 2ms/step - loss: 0.0187 - accuracy: 1.0000\n",
            "Epoch 177/200\n",
            "10/10 [==============================] - 0s 2ms/step - loss: 0.0213 - accuracy: 1.0000\n",
            "Epoch 178/200\n",
            "10/10 [==============================] - 0s 3ms/step - loss: 0.0240 - accuracy: 1.0000\n",
            "Epoch 179/200\n",
            "10/10 [==============================] - 0s 2ms/step - loss: 0.0067 - accuracy: 1.0000\n",
            "Epoch 180/200\n",
            "10/10 [==============================] - 0s 2ms/step - loss: 0.0071 - accuracy: 1.0000\n",
            "Epoch 181/200\n",
            "10/10 [==============================] - 0s 2ms/step - loss: 0.0637 - accuracy: 1.0000\n",
            "Epoch 182/200\n",
            "10/10 [==============================] - 0s 4ms/step - loss: 0.0086 - accuracy: 1.0000\n",
            "Epoch 183/200\n",
            "10/10 [==============================] - 0s 2ms/step - loss: 0.0087 - accuracy: 1.0000\n",
            "Epoch 184/200\n",
            "10/10 [==============================] - 0s 2ms/step - loss: 0.0201 - accuracy: 1.0000\n",
            "Epoch 185/200\n",
            "10/10 [==============================] - 0s 2ms/step - loss: 0.0038 - accuracy: 1.0000\n",
            "Epoch 186/200\n",
            "10/10 [==============================] - 0s 2ms/step - loss: 0.1797 - accuracy: 0.9447\n",
            "Epoch 187/200\n",
            "10/10 [==============================] - 0s 3ms/step - loss: 0.0110 - accuracy: 1.0000\n",
            "Epoch 188/200\n",
            "10/10 [==============================] - 0s 2ms/step - loss: 0.0302 - accuracy: 1.0000\n",
            "Epoch 189/200\n",
            "10/10 [==============================] - 0s 3ms/step - loss: 0.0174 - accuracy: 1.0000\n",
            "Epoch 190/200\n",
            "10/10 [==============================] - 0s 3ms/step - loss: 0.0360 - accuracy: 0.9720\n",
            "Epoch 191/200\n",
            "10/10 [==============================] - 0s 2ms/step - loss: 0.0392 - accuracy: 1.0000\n",
            "Epoch 192/200\n",
            "10/10 [==============================] - 0s 2ms/step - loss: 0.0046 - accuracy: 1.0000\n",
            "Epoch 193/200\n",
            "10/10 [==============================] - 0s 2ms/step - loss: 0.0275 - accuracy: 0.9892\n",
            "Epoch 194/200\n",
            "10/10 [==============================] - 0s 3ms/step - loss: 0.0046 - accuracy: 1.0000\n",
            "Epoch 195/200\n",
            "10/10 [==============================] - 0s 2ms/step - loss: 0.0026 - accuracy: 1.0000\n",
            "Epoch 196/200\n",
            "10/10 [==============================] - 0s 2ms/step - loss: 0.0045 - accuracy: 1.0000\n",
            "Epoch 197/200\n",
            "10/10 [==============================] - 0s 2ms/step - loss: 0.0050 - accuracy: 1.0000\n",
            "Epoch 198/200\n",
            "10/10 [==============================] - 0s 2ms/step - loss: 0.0548 - accuracy: 1.0000\n",
            "Epoch 199/200\n",
            "10/10 [==============================] - 0s 2ms/step - loss: 0.0026 - accuracy: 1.0000\n",
            "Epoch 200/200\n",
            "10/10 [==============================] - 0s 2ms/step - loss: 0.0203 - accuracy: 0.9941\n",
            "model created\n"
          ],
          "name": "stdout"
        }
      ]
    },
    {
      "cell_type": "code",
      "metadata": {
        "id": "0xwZN0sr0X56"
      },
      "source": [
        "#This function will preprocess the user input and predict the Bot's response using the model \n",
        "def get_result(msg):\n",
        "\n",
        "  #tokenizing the message\n",
        "  resp_token = nltk.word_tokenize(msg)\n",
        "  resp_token = [lemmatizer.lemmatize(w.lower()) for w in resp_token]\n",
        "\n",
        "  #creating bag of words for the message tokens \n",
        "  bag = [0]*len(word)\n",
        "  for s in resp_token:\n",
        "    for i,w in enumerate(word):\n",
        "      if(w == s):\n",
        "        bag[i] = 1\n",
        "\n",
        "  x_pred = np.array(bag)\n",
        "\n",
        "  #predicting the response using model\n",
        "  response = model.predict(np.array([x_pred]))[0]\n",
        "\n",
        "  threshold = 0.25\n",
        "  res = [[i,r] for i,r in enumerate(response) if r > threshold]\n",
        "  res.sort(key = lambda x:x[1],reverse = True)\n",
        "  \n",
        "  res_lst = []\n",
        "  for r in res:\n",
        "    res_lst.append({\"intent\":classes[r[0]],\"probability\": str(r[1])})\n",
        "  \n",
        "  #choosing the result from the outcome\n",
        "  tag = res_lst[0]['intent']\n",
        "  intent_list = intent_data['intents']\n",
        "  for i in intent_list:\n",
        "    if(i['tag'] == tag):\n",
        "      result = random.choice(i['responses'])\n",
        "      break\n",
        "  return result"
      ],
      "execution_count": 11,
      "outputs": []
    },
    {
      "cell_type": "code",
      "metadata": {
        "colab": {
          "base_uri": "https://localhost:8080/",
          "height": 67,
          "referenced_widgets": [
            "1a04eb07e33b4158b384523b1a60f3f1",
            "4e294afdbf994a23bd93b0649ed904eb",
            "3909f4d796f649cbb32401f781de2ade",
            "fe5738d18528430e9a575346ce367fbe",
            "63439b3d0257459fa69f354f31d525df",
            "ee7a1210694e4ed8b21b840afb1345ab",
            "bcb82c0c216a45e181f3303a0c8789eb"
          ]
        },
        "id": "KaVIo9xd1ut0",
        "outputId": "7f9415bd-caf6-46a7-e812-4ce5cbfe3d6a"
      },
      "source": [
        "#using Google Colab Widgits to see the outcome\n",
        "from __future__ import print_function\n",
        "from ipywidgets import interact, interactive, fixed, interact_manual\n",
        "import ipywidgets as widgets\n",
        "\n",
        "interact(get_result, msg= \"\");"
      ],
      "execution_count": 14,
      "outputs": [
        {
          "output_type": "display_data",
          "data": {
            "application/vnd.jupyter.widget-view+json": {
              "model_id": "1a04eb07e33b4158b384523b1a60f3f1",
              "version_minor": 0,
              "version_major": 2
            },
            "text/plain": [
              "interactive(children=(Text(value='', description='msg'), Output()), _dom_classes=('widget-interact',))"
            ]
          },
          "metadata": {
            "tags": []
          }
        }
      ]
    }
  ]
}